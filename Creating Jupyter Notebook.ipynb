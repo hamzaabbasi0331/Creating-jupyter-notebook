{
 "cells": [
  {
   "cell_type": "code",
   "execution_count": 1,
   "id": "b7614042",
   "metadata": {},
   "outputs": [
    {
     "name": "stdout",
     "output_type": "stream",
     "text": [
      "Multiplication :  10\n",
      "Addition :  7\n"
     ]
    }
   ],
   "source": [
    "a =2\n",
    "b =5\n",
    "mul = a * b\n",
    "print(\"Multiplication : \", mul)\n",
    "\n",
    "add = a + b\n",
    "print(\"Addition : \", add)"
   ]
  },
  {
   "cell_type": "code",
   "execution_count": 8,
   "id": "828a0012",
   "metadata": {},
   "outputs": [
    {
     "name": "stdout",
     "output_type": "stream",
     "text": [
      "Enter minutes:120\n",
      "Hour:  2.0\n"
     ]
    }
   ],
   "source": [
    "min = int(input(\"Enter minutes:\"))\n",
    "hour = min / 60\n",
    "print(\"Hour: \", hour)"
   ]
  },
  {
   "cell_type": "markdown",
   "id": "450b7cee",
   "metadata": {},
   "source": [
    "### Objectives\n",
    "* To get used of jupyter notebook\n",
    "* Get to know some of the common terms\n",
    "* Get to know some syntax for markdown and code line"
   ]
  },
  {
   "cell_type": "markdown",
   "id": "16576df3",
   "metadata": {},
   "source": [
    "### Author Detail\n",
    "* Name: Hamza Amjad\n",
    "* Designation: Machine Learning Engineer"
   ]
  }
 ],
 "metadata": {
  "kernelspec": {
   "display_name": "Python 3 (ipykernel)",
   "language": "python",
   "name": "python3"
  },
  "language_info": {
   "codemirror_mode": {
    "name": "ipython",
    "version": 3
   },
   "file_extension": ".py",
   "mimetype": "text/x-python",
   "name": "python",
   "nbconvert_exporter": "python",
   "pygments_lexer": "ipython3",
   "version": "3.10.11"
  }
 },
 "nbformat": 4,
 "nbformat_minor": 5
}

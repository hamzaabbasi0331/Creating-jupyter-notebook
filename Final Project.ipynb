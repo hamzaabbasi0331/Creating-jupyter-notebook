{
 "cells": [
  {
   "cell_type": "markdown",
   "id": "37275880",
   "metadata": {},
   "source": [
    "# Final Project"
   ]
  },
  {
   "cell_type": "markdown",
   "id": "7ba78a6a",
   "metadata": {},
   "source": [
    "### Welcome to the final project"
   ]
  },
  {
   "cell_type": "markdown",
   "id": "475b7869",
   "metadata": {},
   "source": [
    "### Data Science Languages\n",
    "- Python\n",
    "- R\n",
    "- Java\n",
    "- Julia\n",
    "- Matlab"
   ]
  },
  {
   "cell_type": "markdown",
   "id": "6f9d5733",
   "metadata": {},
   "source": [
    "### Data Science Libraries:\n",
    "- Pandas\n",
    "- Numpy\n",
    "- Scikit-Learn\n",
    "- Scipy\n",
    "- Matplotlib\n",
    "- Seaborn\n",
    "- Tensorflow"
   ]
  },
  {
   "cell_type": "markdown",
   "id": "d884005b",
   "metadata": {},
   "source": [
    "| DS Tools |\n",
    "|----------|\n",
    "| Jupyter Notebook |\n",
    "| Keras |\n",
    "| Julia |\n",
    "| Apache Spark |"
   ]
  },
  {
   "cell_type": "code",
   "execution_count": 1,
   "id": "2e756662",
   "metadata": {
    "scrolled": true
   },
   "outputs": [
    {
     "name": "stdout",
     "output_type": "stream",
     "text": [
      "Multiplication: 30\n",
      "Addition: 11\n"
     ]
    }
   ],
   "source": [
    "# Arithmetic operations\n",
    "# Multiplication\n",
    "Mul = 5 * 6\n",
    "Add = 5 + 6\n",
    "print(\"Multiplication:\", Mul)\n",
    "print(\"Addition:\", Add)"
   ]
  },
  {
   "cell_type": "code",
   "execution_count": 2,
   "id": "2f14a073",
   "metadata": {},
   "outputs": [
    {
     "name": "stdout",
     "output_type": "stream",
     "text": [
      "0 days, 3.3333333333333335 hours, 0 mins. \n"
     ]
    }
   ],
   "source": [
    "days = 0\n",
    "hours = 0\n",
    "mins = 0\n",
    "\n",
    "time = 200\n",
    "#days = time / 1440\n",
    "leftover_minutes = time % 1440\n",
    "hours = leftover_minutes / 60\n",
    "#mins = time - (days*1440) - (hours*60)\n",
    "print(str(days) + \" days, \" + str(hours) + \" hours, \" + str(mins) +  \" mins. \")\n"
   ]
  },
  {
   "cell_type": "code",
   "execution_count": 5,
   "id": "b35982f7",
   "metadata": {},
   "outputs": [
    {
     "name": "stdout",
     "output_type": "stream",
     "text": [
      "Enter the number of minutes: 3600\n",
      "Requried hours are: 60.0\n"
     ]
    }
   ],
   "source": [
    "minutes = float(input(\"Enter the number of minutes: \"))\n",
    "hr = 1/60*minutes\n",
    "print(\"Requried hours are:\", hr)\n"
   ]
  },
  {
   "cell_type": "markdown",
   "id": "9b955342",
   "metadata": {},
   "source": [
    "### Objective\n",
    "- Creating markdown cell\n",
    "- Creating code cell\n",
    "- Performing arithmetinc Operation\n",
    "- Converting Hours to minutes"
   ]
  },
  {
   "cell_type": "markdown",
   "id": "ca969c2d",
   "metadata": {},
   "source": [
    "## Author:\n",
    "### Hamza Amjad"
   ]
  }
 ],
 "metadata": {
  "kernelspec": {
   "display_name": "Python 3 (ipykernel)",
   "language": "python",
   "name": "python3"
  },
  "language_info": {
   "codemirror_mode": {
    "name": "ipython",
    "version": 3
   },
   "file_extension": ".py",
   "mimetype": "text/x-python",
   "name": "python",
   "nbconvert_exporter": "python",
   "pygments_lexer": "ipython3",
   "version": "3.10.11"
  }
 },
 "nbformat": 4,
 "nbformat_minor": 5
}
